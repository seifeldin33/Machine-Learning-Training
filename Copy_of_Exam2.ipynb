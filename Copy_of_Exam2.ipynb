{
  "nbformat": 4,
  "nbformat_minor": 0,
  "metadata": {
    "colab": {
      "name": "Copy of Exam2.ipynb",
      "provenance": [],
      "include_colab_link": true
    },
    "kernelspec": {
      "name": "python3",
      "display_name": "Python 3"
    },
    "language_info": {
      "name": "python"
    }
  },
  "cells": [
    {
      "cell_type": "markdown",
      "metadata": {
        "id": "view-in-github",
        "colab_type": "text"
      },
      "source": [
        "<a href=\"https://colab.research.google.com/github/seifeldin33/Machine-Learning-Training/blob/main/Copy_of_Exam2.ipynb\" target=\"_parent\"><img src=\"https://colab.research.google.com/assets/colab-badge.svg\" alt=\"Open In Colab\"/></a>"
      ]
    },
    {
      "cell_type": "markdown",
      "metadata": {
        "id": "5wXGR30b9re6"
      },
      "source": [
        "# Question 1\n",
        "Write a program that asks the user to enter the amount that he or she has budgeted for a month. A loop should then prompt the user to enter each of his or her expenses for the month and keep a running total. When the loop finishes, the program should display the amount that the user is over or under budget."
      ]
    },
    {
      "cell_type": "code",
      "metadata": {
        "id": "VqHLKlqN9orp",
        "colab": {
          "base_uri": "https://localhost:8080/",
          "height": 136
        },
        "outputId": "b90eccda-9946-4fdc-a264-75cca17f3a3c"
      },
      "source": [
        "expense = 0.0\n",
        "budget = 0.0\n",
        "difference = 0.0\n",
        "expenseTotal = 0.0\n",
        "\n",
        "total_expense = 0\n",
        "keep_going = 'y'\n",
        "\n",
        "\n",
        "#Input Module\n",
        "budget = float(input(\"What is your budget for the month?\"))\n",
        "print(\"Please begin entering the amounts of each of your monthly expenses:\")\n",
        "\n",
        "while keep_going == 'y':\n",
        "    expense = float(input(\"Monthly expense amount? $\"))\n",
        "    total_expense = total_expense + expense\n",
        "    keep_going = input(\"Do you have any other expenses? (Enter y for yes.)\")\n",
        "\n",
        "#Calculations Module\n",
        "if total_expense < budget:\n",
        "    difference = budget - total_expense\n",
        "    print(\"You were $\", difference, \" under budget.\")\n",
        "\n",
        "elif total_expense > budget:\n",
        "    difference = total_expense - budget\n",
        "    print(\"You were $\", difference, \" over budget.\")\n",
        "\n",
        "else:\n",
        "    print(\"You were right on budget. Great Job!!!\")\n",
        "\n",
        "\n",
        "input(\"Press enter to exit.\")"
      ],
      "execution_count": 1,
      "outputs": [
        {
          "output_type": "stream",
          "text": [
            "What is your budget for the month?2040\n",
            "Please begin entering the amounts of each of your monthly expenses:\n",
            "Monthly expense amount? $5324\n",
            "Do you have any other expenses? (Enter y for yes.)n\n",
            "You were $ 3284.0  over budget.\n",
            "Press enter to exit.\n"
          ],
          "name": "stdout"
        },
        {
          "output_type": "execute_result",
          "data": {
            "application/vnd.google.colaboratory.intrinsic+json": {
              "type": "string"
            },
            "text/plain": [
              "''"
            ]
          },
          "metadata": {
            "tags": []
          },
          "execution_count": 1
        }
      ]
    },
    {
      "cell_type": "markdown",
      "metadata": {
        "id": "kGBuj9Rk-veL"
      },
      "source": [
        "# Question 2 \n",
        "Write a function named max that accepts two integer values as arguments and returns the\n",
        "value that is the greater of the two. For example, if 7 and 12 are passed as arguments to\n",
        "the function, the function should return 12. Use the function in a program that prompts the\n",
        "user to enter two integer values. The program should display the value that is the greater\n",
        "of the two."
      ]
    },
    {
      "cell_type": "code",
      "metadata": {
        "id": "3psMKiEQ-m6k",
        "colab": {
          "base_uri": "https://localhost:8080/"
        },
        "outputId": "5bf6cd2a-4c99-4c38-e8e0-cbfa35ac4d87"
      },
      "source": [
        "def max(firstNumber, secondNumber ):\n",
        "    if firstNumber > secondNumber:\n",
        "        return firstNumber\n",
        "    return secondNumber\n",
        " \n",
        "firstNumber=int(input(\"Input the first number: \"))\n",
        "secondNumber=int(input(\"Input the second number: \"))\n",
        " \n",
        "maxValue=max(firstNumber,secondNumber)\n",
        " \n",
        "print(f\"The maximum value is {maxValue}\")"
      ],
      "execution_count": 2,
      "outputs": [
        {
          "output_type": "stream",
          "text": [
            "Input the first number: 5\n",
            "Input the second number: 8\n",
            "The maximum value is 8\n"
          ],
          "name": "stdout"
        }
      ]
    },
    {
      "cell_type": "markdown",
      "metadata": {
        "id": "2QJ4_LYe_QyM"
      },
      "source": [
        "# Question 3\n",
        "Write a program that asks the user for the name of a file. The program should display the\n",
        "contents of the file with each line preceded with a line number followed by a colon. The\n",
        "line numbering should start at 1."
      ]
    },
    {
      "cell_type": "code",
      "metadata": {
        "id": "z_9PEjmp_P7c",
        "colab": {
          "base_uri": "https://localhost:8080/"
        },
        "outputId": "3dbbf2a4-6322-45b4-b697-871a4e52b2ff"
      },
      "source": [
        "filename = input(\"Enter file name: \")\n",
        "\n",
        "try:\n",
        "    with open(filename, 'r') as f, open(\"ln_\"+filename, 'w') as w:\n",
        "        count = 1\n",
        "        for line in f:\n",
        "            w.write(str(count) + ': ' + line)\n",
        "            count += 1\n",
        "except:\n",
        "    print(\"Error. Failed to read from \" + filename)"
      ],
      "execution_count": 3,
      "outputs": [
        {
          "output_type": "stream",
          "text": [
            "Enter file name: sdaf\n",
            "Error. Failed to read from sdaf\n"
          ],
          "name": "stdout"
        }
      ]
    },
    {
      "cell_type": "markdown",
      "metadata": {
        "id": "mWPrmdWDAHJK"
      },
      "source": [
        "# Question 4\n",
        "Write a program that reads a string from the user containing a date in the form mm/dd/yyyy. It should print the date in the form March 12, 2014."
      ]
    },
    {
      "cell_type": "code",
      "metadata": {
        "id": "7o6o25d6AMDj",
        "colab": {
          "base_uri": "https://localhost:8080/"
        },
        "outputId": "160b6236-fe03-4e07-82c3-13fa39647821"
      },
      "source": [
        "mydate = input('Enter a date(mm/dd/yyyy): ')\n",
        "datelist = mydate.split('/')\n",
        "\n",
        "month = int(datelist[0])\n",
        "day = int(datelist[1])\n",
        "year = int(datelist[2])\n",
        "\n",
        "if month == 1:\n",
        "    month = 'January'\n",
        "elif month == 2:\n",
        "    month = 'February'\n",
        "elif month == 3:\n",
        "    month = 'March'\n",
        "elif month == 4:\n",
        "    month = 'April'\n",
        "elif month == 5:\n",
        "    month = 'May'\n",
        "elif month == 6:\n",
        "    month = 'June'\n",
        "elif month == 7:\n",
        "    month = 'July'\n",
        "elif month == 8:\n",
        "    month = 'August'\n",
        "elif month == 9:\n",
        "    month = 'September'\n",
        "elif month == 2:\n",
        "    month = 'October'\n",
        "elif month == 2:\n",
        "    month = 'November'\n",
        "elif month == 12:\n",
        "    month = 'December'\n",
        "    \n",
        "newdate = month + ' ' + str(day) + ',' + str(year) \n",
        "\n",
        "print(newdate)"
      ],
      "execution_count": 4,
      "outputs": [
        {
          "output_type": "stream",
          "text": [
            "Enter a date(mm/dd/yyyy): 4/22/2022\n",
            "April 22,2022\n"
          ],
          "name": "stdout"
        }
      ]
    },
    {
      "cell_type": "code",
      "metadata": {
        "id": "uSQKxce79zUg"
      },
      "source": [
        ""
      ],
      "execution_count": null,
      "outputs": []
    },
    {
      "cell_type": "markdown",
      "metadata": {
        "id": "jSxraWwFqJ6b"
      },
      "source": [
        "# Question 5\n",
        "Write a class named Person with data attributes for a person’s name, address, and telephone number. Next, write a class named Customer that is a subclass of the Person class.\n",
        "The Customer class should have a data attribute for a customer number and a Boolean\n",
        "data attribute indicating whether the customer wishes to be on a mailing list. Demonstrate\n",
        "an instance of the Customer class in a simple program."
      ]
    },
    {
      "cell_type": "code",
      "metadata": {
        "id": "_8Oe4YNEEuJH"
      },
      "source": [
        "class Person(object):#only change\n",
        "    def __init__(self, name, address, telephone, email):\n",
        "        self.__name = name\n",
        "        self.__address = address\n",
        "        self.__telephone = telephone\n",
        "        self.__email = email\n",
        "\n",
        "    def set_name(self, name):\n",
        "        self.__name = name\n",
        "\n",
        "    def set_address(self, address):\n",
        "        self.__address = address\n",
        "\n",
        "    def set_telephone(self, telephone):\n",
        "        self.__telephone = telephone\n",
        "\n",
        "    def set_email(self, email):\n",
        "        self.__email = email\n",
        "\n",
        "    def get_name(self):\n",
        "        return self.__name\n",
        "\n",
        "    def get_address(self):\n",
        "        return self.__address\n",
        "\n",
        "    def get_telephone(self):\n",
        "        return self.__telephone\n",
        "\n",
        "    def get_email(self):\n",
        "        return self.__email"
      ],
      "execution_count": 11,
      "outputs": []
    },
    {
      "cell_type": "code",
      "metadata": {
        "id": "9vI4N8FxEyig"
      },
      "source": [
        " \n",
        "\n",
        "class Customer(Person):\n",
        "    def __init__(self, name, address, telephone, email, mail, number): #fixed number of arguments to pass for class instantiation \n",
        "        super(type(self), self).__init__(name, address, telephone, email) #Also here and not the use of `super`\n",
        "        #super().__init__(name, address, telephone, email) with Python 3+\n",
        "        self.mailing = True if mail == 'Y' else False #Fixed self.mailing expression\n",
        "        self.__mail = mail\n",
        "        self.__number = number\n",
        "\n",
        "    def set_mail(self, mail):\n",
        "       self.__mail = mail\n",
        "\n",
        "    def set_number(self, number):\n",
        "        self.__number = number\n",
        "\n",
        "    def get_mail(self):\n",
        "        return self.__mail\n",
        "\n",
        "    def get_number(self):\n",
        "        return self.__number\n",
        "\n",
        "    def mailList(self): #No need for mail argument\n",
        "        if self.mailing == True: #Just Check here self.mailing\n",
        "            return \"On the mailing list\"\n",
        "        else:\n",
        "            return \"Not on the mailing list\"\n",
        "\n",
        "    def __str__(self):\n",
        "        return \"\\nName: {}\\nAddress: {}\\ntelephone: {}\\nEmail: {}\\nMail: {}\\nNumber: {}\".\\\n",
        "                format(self.get_name(), self.get_address(),\\\n",
        "                       self.get_telephone(), self.get_email()\\\n",
        "                       , self.mailList(),self.get_number())"
      ],
      "execution_count": 14,
      "outputs": []
    },
    {
      "cell_type": "code",
      "metadata": {
        "colab": {
          "base_uri": "https://localhost:8080/"
        },
        "id": "7mLj3ak3FES3",
        "outputId": "f356a067-8e17-4536-d97a-9df9a3abfc8b"
      },
      "source": [
        " \n",
        "def main():\n",
        "\n",
        "    customer = Customer('Josh', 'Long st, Dallas TX',\\\n",
        "                                 '555-987-1549','adsf@asd.com','Y','1153')\n",
        "    print(customer)\n",
        "\n",
        "main()"
      ],
      "execution_count": 18,
      "outputs": [
        {
          "output_type": "stream",
          "text": [
            "\n",
            "Name: Josh\n",
            "Address: Long st, Dallas TX\n",
            "telephone: 555-987-1549\n",
            "Email: adsf@asd.com\n",
            "Mail: On the mailing list\n",
            "Number: 1153\n"
          ],
          "name": "stdout"
        }
      ]
    },
    {
      "cell_type": "markdown",
      "metadata": {
        "id": "Psab1ArBA2Yp"
      },
      "source": [
        "Once You finish Fill the Form: https://docs.google.com/forms/d/e/1FAIpQLSeu1EmFSSURi7TYZ7LvNQREvDEeGue6enxF2j_wy2mNU-q2xw/viewform?usp=sf_link"
      ]
    }
  ]
}