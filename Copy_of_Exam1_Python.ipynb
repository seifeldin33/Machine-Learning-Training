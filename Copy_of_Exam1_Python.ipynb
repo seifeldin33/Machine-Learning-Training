{
  "nbformat": 4,
  "nbformat_minor": 0,
  "metadata": {
    "colab": {
      "name": "Copy of Exam1/Python.ipynb",
      "provenance": [],
      "include_colab_link": true
    },
    "kernelspec": {
      "name": "python3",
      "display_name": "Python 3"
    },
    "language_info": {
      "name": "python"
    }
  },
  "cells": [
    {
      "cell_type": "markdown",
      "metadata": {
        "id": "view-in-github",
        "colab_type": "text"
      },
      "source": [
        "<a href=\"https://colab.research.google.com/github/seifeldin33/Machine-Learning-Training/blob/main/Copy_of_Exam1_Python.ipynb\" target=\"_parent\"><img src=\"https://colab.research.google.com/assets/colab-badge.svg\" alt=\"Open In Colab\"/></a>"
      ]
    },
    {
      "cell_type": "markdown",
      "metadata": {
        "id": "N3g56y-B9k0P"
      },
      "source": [
        "# Question 1\n",
        "\n",
        "A bug collector collects bugs every day for five days. Write a program that keeps a runningtotal of the number of bugs collected during the five days. The loop should ask for the number of bugs collected for each day, and when the loop is finished, the program should display the total number of bugs collected.\n"
      ]
    },
    {
      "cell_type": "code",
      "metadata": {
        "id": "Gf9U9SiB9W4v",
        "colab": {
          "base_uri": "https://localhost:8080/"
        },
        "outputId": "30b02622-12b3-40a7-c17d-2d0614d8ae0a"
      },
      "source": [
        "days = 5\n",
        "bugsnumber = 0\n",
        "for currentday in range(1, days + 1):\n",
        "  bugcollected = int( input(\"number of collected bugs is\"))\n",
        "  bugsnumber += bugcollected\n",
        "print(\"total number of bugs are \", bugsnumber)\n"
      ],
      "execution_count": null,
      "outputs": [
        {
          "output_type": "stream",
          "text": [
            "number of collected bugs is4\n",
            "number of collected bugs is3\n",
            "number of collected bugs is2\n",
            "number of collected bugs is5\n",
            "number of collected bugs is1\n",
            "total number of bugs are  15\n"
          ],
          "name": "stdout"
        }
      ]
    },
    {
      "cell_type": "markdown",
      "metadata": {
        "id": "TSiOdR5Z-ZSD"
      },
      "source": [
        "# Question 2\n",
        "Write a program that asks the user to enter five test scores. The program should display a\n",
        "letter grade for each score and the average test score. Write the following functions in the\n",
        "program:\n",
        "* calc_average —This function should accept five test scores as arguments and return\n",
        "the average of the scores.\n",
        "* determine_grade —This function should accept a test score as an argument and return\n",
        "a letter grade for the score based on the following grading scale:\n",
        "\n",
        "\n",
        "![Screenshot from 2021-06-25 13-42-09.png](data:image/png;base64,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)\n"
      ]
    },
    {
      "cell_type": "code",
      "metadata": {
        "id": "HG_Lm4cP-2GT",
        "colab": {
          "base_uri": "https://localhost:8080/"
        },
        "outputId": "16f9eddd-c0cc-4895-e0f3-c43a954fa226"
      },
      "source": [
        "def main():\n",
        "    score1 = float(input(\"Score 1? \"))\n",
        "    score2 = float(input(\"Score 2? \"))\n",
        "    score3 = float(input(\"Score 3? \"))\n",
        "    score4 = float(input(\"Score 4? \"))\n",
        "    score5 = float(input(\"Score 5? \"))\n",
        "    return [score1, score2, score3, score4, score5]\n",
        "\n",
        "\n",
        "def determine_grade(num):\n",
        "    if 90 <= num <= 100:\n",
        "        letter_grade = \"A\"\n",
        "    elif 80 <= num <= 89:\n",
        "        letter_grade = \"B\"\n",
        "    elif 70 <= num <= 79:\n",
        "        letter_grade = \"C\"\n",
        "    elif 60 <= num <= 69:\n",
        "        letter_grade = \"D\"\n",
        "    else:\n",
        "        letter_grade = \"F\"\n",
        "    return letter_grade\n",
        "\n",
        "\n",
        "def calc_average(grades):\n",
        "    average = sum(grades) / len(grades)\n",
        "    grade = determine_grade(average)\n",
        "    print(\"Average Score: \\t {:.1f}  \\t\\t\\t {}\".format(average, grade))\n",
        "\n",
        "\n",
        "\n",
        "def show_letters(num, letter_grade):\n",
        "\n",
        "    print(\"Score: \\t\\t {:.1f} \\t\\t\\t {}\".format(num, letter_grade))\n",
        "\n",
        "\n",
        "lst = main()\n",
        "print(\"\\nScore \\t\\t Numeric Grade \\t\\t Letter Grade\")\n",
        " \n",
        "for n in lst:\n",
        "    show_letters(n, determine_grade(n))\n",
        " \n",
        "calc_average(lst)"
      ],
      "execution_count": null,
      "outputs": [
        {
          "output_type": "stream",
          "text": [
            "Score 1? 76\n",
            "Score 2? 87\n",
            "Score 3? 98\n",
            "Score 4? 67\n",
            "Score 5? 87\n",
            "\n",
            "Score \t\t Numeric Grade \t\t Letter Grade\n",
            "Score: \t\t 76.0 \t\t\t C\n",
            "Score: \t\t 87.0 \t\t\t B\n",
            "Score: \t\t 98.0 \t\t\t A\n",
            "Score: \t\t 67.0 \t\t\t D\n",
            "Score: \t\t 87.0 \t\t\t B\n",
            "Average Score: \t 83.0  \t\t\t B\n"
          ],
          "name": "stdout"
        }
      ]
    },
    {
      "cell_type": "markdown",
      "metadata": {
        "id": "CsCGYS32-2V3"
      },
      "source": [
        "# Question 3\n",
        "Write a program that asks the user for the name of a file. The program should display only\n",
        "the first five lines of the file’s contents. If the file contains less than five lines, it should\n",
        "display the file’s entire contents."
      ]
    },
    {
      "cell_type": "code",
      "metadata": {
        "id": "JjasPrcm_L-Y"
      },
      "source": [
        "def file_head_display(limit = 5):\n",
        "    file = str(input('Enter the name of the file: '))\n",
        "    f_open = open (file, 'r')\n",
        "\n",
        "    line_count = 0        \n",
        "    for line in f_open:                 \n",
        "        if line_count < limit:          \n",
        "            print(line, end=\"\")          \n",
        "            line_counter += 1\n",
        "        else:                            \n",
        "            break\n",
        "\n",
        "file_head_display()"
      ],
      "execution_count": null,
      "outputs": []
    },
    {
      "cell_type": "markdown",
      "metadata": {
        "id": "Eu15auXh_9YD"
      },
      "source": [
        "# Question 4\n",
        "Write a program that asks the user to enter a series of single-digit numbers with nothing\n",
        "separating them. The program should display the sum of all the single digit numbers in the\n",
        "string. For example, if the user enters 2514, the method should return 12, which is the sum\n",
        "of 2, 5, 1, and 4."
      ]
    },
    {
      "cell_type": "code",
      "metadata": {
        "id": "t7aTj8ihABUX",
        "colab": {
          "base_uri": "https://localhost:8080/"
        },
        "outputId": "f4e87754-de0f-4f3f-ab06-168657d20804"
      },
      "source": [
        "def value(string):    \n",
        "    count = 0\n",
        "    for num in str(string)[0:]:\n",
        "        if num.isdigit() and int(num) in range(10):\n",
        "            count += int(num)\n",
        "\n",
        "    return count\n",
        "\n",
        "def main():\n",
        "    user_input_string = input('Enter a string of single digit numbers with no separation: ')\n",
        "\n",
        "    print('sumtion of string is: ' + str(value(user_input_string)) )\n",
        "\n",
        "\n",
        "main()"
      ],
      "execution_count": null,
      "outputs": [
        {
          "output_type": "stream",
          "text": [
            "Enter a string of single digit numbers with no separation: 3242\n",
            "sumtion of string is: 11\n"
          ],
          "name": "stdout"
        }
      ]
    },
    {
      "cell_type": "markdown",
      "metadata": {
        "id": "_NhRPlCSpnhY"
      },
      "source": [
        "# Question 5\n",
        "Write an Employee class that keeps data attributes for the following pieces of information:<br>\n",
        "*\t Employee name\n",
        "*\t Employee number\n",
        "\n",
        "Next, write a class named ProductionWorker that is a subclass of the Employee class. The\n",
        "ProductionWorker class should keep data attributes for the following information:\n",
        "\n",
        "*\t Shift number (an integer, such as 1, 2, or 3)\n",
        "*\t Hourly pay rate\n",
        "\n",
        "The workday is divided into two shifts: day and night. The shift attribute will hold an\n",
        "integer value representing the shift that the employee works. The day shift is shift 1 and the\n",
        "night shift is shift 2. Write the appropriate accessor and mutator methods for each class.\n",
        "Once you have written the classes, write a program that creates an object of the\n",
        "ProductionWorker class and prompts the user to enter data for each of the object’s data\n",
        "attributes. Store the data in the object and then use the object’s accessor methods to retrieve\n",
        "it and display it on the screen."
      ]
    },
    {
      "cell_type": "code",
      "metadata": {
        "id": "o_ZkURdNAkHW"
      },
      "source": [
        "class Employee:\n",
        "\n",
        "    def __init__(self, name, employee_number):\n",
        "        self.name = name\n",
        "        self.employee_number = employee_number\n",
        "\n",
        "    def setName(self, name):\n",
        "        self.name = name\n",
        "\n",
        "    def getName(self):\n",
        "        return self.name\n",
        "\n",
        "    def setEmployeeNumber(self, employee_number):\n",
        "        self.employee_number = employee_number\n",
        "\n",
        "    def getEmployeeNumber(self):\n",
        "        return self.employee_number\n",
        "\n",
        "    def __str__(self):\n",
        "        return \"Employee Name: \" + self.getName() + \", Employee Number: \" + str(self.getEmployeeNumber())"
      ],
      "execution_count": 10,
      "outputs": []
    },
    {
      "cell_type": "code",
      "metadata": {
        "id": "gMpafgF-tJLz"
      },
      "source": [
        "\n",
        "class ProductionWorker(Employee):\n",
        "\n",
        "    def __init__(self, name, employee_number, shift_number, hourly_pay_rate):\n",
        "        Employee.__init__(self, name, employee_number)\n",
        "        self.shift_number = shift_number\n",
        "        self.hourly_pay_rate = hourly_pay_rate\n",
        "\n",
        "    def getShiftNumber(self):\n",
        "        return self.shift_number\n",
        "\n",
        "    def getHourlyPayRate(self):\n",
        "        return self.hourly_pay_rate\n",
        "\n",
        "    def __str__(self):\n",
        "        return \"Worker Name: \" + self.getName() + \", Worker Number: \" + str(self.getEmployeeNumber()) + \\\n",
        "               \", Worker Shift Number: \" + str(self.getShiftNumber()) + \\\n",
        "               \", Worker Hourly Pay Rate: \" + str(self.getHourlyPayRate())"
      ],
      "execution_count": 11,
      "outputs": []
    },
    {
      "cell_type": "code",
      "metadata": {
        "id": "MxnDOh0GtL26",
        "colab": {
          "base_uri": "https://localhost:8080/"
        },
        "outputId": "a5a587ca-94dd-4f2b-f292-e34e0e664ca6"
      },
      "source": [
        "worker_name = input(\"Please Enter the worker name: \")\n",
        "worker_number = int(input(\"Please Enter the worker number: \"))\n",
        "worker_shift_number = int(input(\"Please Enter the worker shift number: \"))\n",
        "worker_hourly_pay_rate = float(input(\"Please Enter the worker hourly pay rate: \"))\n",
        "worker = ProductionWorker(worker_name, worker_number, worker_shift_number, worker_hourly_pay_rate)\n",
        "print(worker)"
      ],
      "execution_count": 13,
      "outputs": [
        {
          "output_type": "stream",
          "text": [
            "Please Enter the worker name: seif\n",
            "Please Enter the worker number: 4354325\n",
            "Please Enter the worker shift number: 4322\n",
            "Please Enter the worker hourly pay rate: 433\n",
            "Worker Name: seif, Worker Number: 4354325, Worker Shift Number: 4322, Worker Hourly Pay Rate: 433.0\n"
          ],
          "name": "stdout"
        }
      ]
    },
    {
      "cell_type": "markdown",
      "metadata": {
        "id": "O-R0xTgIA2-e"
      },
      "source": [
        "Once You finish Fill the Form: https://docs.google.com/forms/d/e/1FAIpQLScdxp8xrcmMYVigcrhuNo8hcNYbvLmDYJtyjHKh1Mvi8xmszA/viewform?usp=sf_link"
      ]
    }
  ]
}